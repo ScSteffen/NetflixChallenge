{
 "cells": [
  {
   "cell_type": "markdown",
   "metadata": {},
   "source": [
    "# Test framework for rating kernels for Netflix challenge #"
   ]
  },
  {
   "cell_type": "markdown",
   "metadata": {},
   "source": [
    "**Context**\n",
    "\n",
    "Netflix held the Netflix Prize open competition for the best algorithm to predict user ratings for films. The grand prize was $1,000,000 and was won by BellKor's Pragmatic Chaos team. This is the dataset that was used in that competition.\n",
    "\n",
    "The competition can be found on [kaggle](https://www.kaggle.com/netflix-inc/netflix-prize-data).\n"
   ]
  },
  {
   "cell_type": "markdown",
   "metadata": {},
   "source": [
    "**Kernel creation**\n",
    "\n",
    "A rating kernel takes as two input arguments `movie_id` and `customer_id` and returns the value `rating`. \n",
    "The return value `rating` is an integer between `0` and `5`."
   ]
  },
  {
   "cell_type": "code",
   "execution_count": 59,
   "metadata": {},
   "outputs": [
    {
     "data": {
      "text/plain": [
       "rateMovie (generic function with 1 method)"
      ]
     },
     "execution_count": 59,
     "metadata": {},
     "output_type": "execute_result"
    }
   ],
   "source": [
    "function rateMovie(movie_id,customer_id)\n",
    "    rating  = 3.7599228453260958; # Rate each movie slightly above average (remove me)\n",
    "    # your kernel goes here\n",
    "    return rating;\n",
    "end"
   ]
  },
  {
   "cell_type": "markdown",
   "metadata": {},
   "source": [
    "**Kernel testing**\n",
    "\n",
    "This is the framework to test your kernel against the netflix data set.\n",
    "Your kernel is used to create ratings for a list of users and movie titles. Then the rating is compared to the reference data by netflix using a *RMSE* distance. \n",
    "Test Data set is downloadable [here](https://www.kaggle.com/netflix-inc/netflix-prize-data/download).\n"
   ]
  },
  {
   "cell_type": "code",
   "execution_count": 15,
   "metadata": {},
   "outputs": [],
   "source": [
    "# read test data\n",
    "using DelimitedFiles\n",
    "filename = \"Netflix_Data/combined_data_1.txt\" #Replace by your datapath, if neccessary\n",
    "combined_data_1 = readdlm(filename);"
   ]
  },
  {
   "cell_type": "code",
   "execution_count": 60,
   "metadata": {},
   "outputs": [
    {
     "name": "stdout",
     "output_type": "stream",
     "text": [
      "The RMSE of your prediction is: 1.0978821007641228"
     ]
    }
   ],
   "source": [
    "# Test Kernel\n",
    "\n",
    "line_idx = 1\n",
    "squared_diff = 0\n",
    "rating_count = 0\n",
    "\n",
    "#Read Data and compare to predictions\n",
    "while line_idx <= length(combined_data_1)\n",
    "    line = split(combined_data_1[line_idx],\":\") # start with a line containing a movie id\n",
    "    line_idx = line_idx + 1\n",
    "    movie_id = parse(Int, line[1])\n",
    "    while line_idx <= length(combined_data_1) && length(split(combined_data_1[line_idx],\",\")) ==3 #we read the customers rating this movie\n",
    "        line = split(combined_data_1[line_idx],\",\")\n",
    "        line_idx = line_idx + 1\n",
    "        rating_count = rating_count + 1\n",
    "        customer_id = parse(Int, line[1]);\n",
    "        rating = parse(Int, line[2]);\n",
    "        # omit date == line[3]\n",
    "        predicted_rating =  rateMovie(movie_id, customer_id)\n",
    "        squared_diff += (rating-predicted_rating)^2 #compute RMSE summand           \n",
    "    end\n",
    "end\n",
    "print(\"The RMSE of your prediction is: \")\n",
    "rmse = sqrt(squared_diff/rating_count)\n",
    "print(rmse)"
   ]
  }
 ],
 "metadata": {
  "kernelspec": {
   "display_name": "Julia 1.3.1",
   "language": "julia",
   "name": "julia-1.3"
  },
  "language_info": {
   "file_extension": ".jl",
   "mimetype": "application/julia",
   "name": "julia",
   "version": "1.3.1"
  }
 },
 "nbformat": 4,
 "nbformat_minor": 4
}
